{
 "cells": [
  {
   "cell_type": "markdown",
   "metadata": {},
   "source": [
    "\n",
    "# Project: Investigate a Dataset (No-Show Appointment)\n",
    "\n",
    "## Table of Contents\n",
    "<ul>\n",
    "<li><a href=\"#intro\">Introduction</a></li>\n",
    "<li><a href=\"#wrangling\">Data Wrangling</a></li>\n",
    "<li><a href=\"#eda\">Exploratory Data Analysis</a></li>\n",
    "<li><a href=\"#conclusions\">Conclusions</a></li>\n",
    "</ul>"
   ]
  },
  {
   "cell_type": "markdown",
   "metadata": {},
   "source": [
    "<a id='intro'></a>\n",
    "## Introduction\n",
    "\n",
    "This dataset (**No-show Appointment**) collects information from 100k medical appointments in Brazil and is focused on the question of whether or not patients show up for their appointment. A number of characteristics about the patient are included in each row.\n",
    "\n",
    "- ScheduledDay tells us on what day the patient set up their appointment.\n",
    "- Neighborhood indicates the location of the hospital.\n",
    "- Scholarship indicates whether or not the patient is enrolled in Brasilian welfare program Bolsa Família.\n",
    "- Be careful about the encoding of the last column: it says ‘No’ if the patient showed up to their appointment, and ‘Yes’ if they did not show up.\n",
    "\n",
    "## The Content\n",
    "The dataset contains medical appointment records of (**110,527**) and **14** associated fields(features)  \n",
    "\n",
    "# columns\n",
    "\n",
    "-  `PatientId`  > Patient Idention\n",
    "- `AppointmentID` > Identifition of appointment\n",
    "- `Gender`     >    Male (M) or Female (F). \n",
    "- `ScheduledDay` > The day a patient register for appointment.\n",
    "-  `AppointmentDay` > The day a patient visit the medical doctor \n",
    "- `Age`            > Age of the patient\n",
    "-  `Neighbourhood`   > Where the appointment occures \n",
    "-   `Scholarship`   >  If the patient is on free medical, this holds True(1) False(0) \n",
    "-   `Hipertension` >   Holds True(1) False(0)  \n",
    "-   `Diabetes`        >Holds True(1) False(0)  \n",
    "-  `Alcoholism`     >Holds True(1) False(0) \n",
    "-  `Handcap`   >      Disability of the patient \n",
    "-  `SMS_received` >   message sent to patient  \n",
    "-  `No-show` > Holds No or Yes"
   ]
  },
  {
   "cell_type": "code",
   "execution_count": 3,
   "metadata": {},
   "outputs": [],
   "source": [
    "# Import the dependencies libraries/packages for our analysis\n",
    "import numpy as np\n",
    "import pandas as pd\n",
    "import matplotlib.pyplot as plt\n",
    "import seaborn as sns\n",
    "\n",
    "%matplotlib inline"
   ]
  },
  {
   "cell_type": "markdown",
   "metadata": {},
   "source": [
    "<a id='wrangling'></a>\n",
    "## Data Wrangling\n",
    "\n",
    "> We will be using both Visual and Programmatic assessment to investiage the No-show appointment Dataset, and after litte familiarization of the dataset we'll try to answer the following questions.\n",
    "\n",
    "### Question\n",
    "Q1: The pacentage of patient show-up for appointment\n",
    "\n",
    "Q2: Does `Gender` Affect the Attendence?\n",
    "\n",
    "Q3: Does `Scholarship` Affect the Attendance?\n",
    "\n",
    "Q4: Does `SMS` Affect the Attendance?\n",
    "\n",
    "Q5: Does `Age` Affect the Attendance?\n",
    "\n",
    "Q6: `Neighbourhoods` with highest Number of Absent\n",
    "\n",
    "Q7: Get `Single record/observation`for a patient \n",
    "\n",
    "\n",
    "### General Properties"
   ]
  },
  {
   "cell_type": "code",
   "execution_count": 4,
   "metadata": {},
   "outputs": [
    {
     "data": {
      "text/html": [
       "<div>\n",
       "<style scoped>\n",
       "    .dataframe tbody tr th:only-of-type {\n",
       "        vertical-align: middle;\n",
       "    }\n",
       "\n",
       "    .dataframe tbody tr th {\n",
       "        vertical-align: top;\n",
       "    }\n",
       "\n",
       "    .dataframe thead th {\n",
       "        text-align: right;\n",
       "    }\n",
       "</style>\n",
       "<table border=\"1\" class=\"dataframe\">\n",
       "  <thead>\n",
       "    <tr style=\"text-align: right;\">\n",
       "      <th></th>\n",
       "      <th>PatientId</th>\n",
       "      <th>AppointmentID</th>\n",
       "      <th>Gender</th>\n",
       "      <th>ScheduledDay</th>\n",
       "      <th>AppointmentDay</th>\n",
       "      <th>Age</th>\n",
       "      <th>Neighbourhood</th>\n",
       "      <th>Scholarship</th>\n",
       "      <th>Hipertension</th>\n",
       "      <th>Diabetes</th>\n",
       "      <th>Alcoholism</th>\n",
       "      <th>Handcap</th>\n",
       "      <th>SMS_received</th>\n",
       "      <th>No-show</th>\n",
       "    </tr>\n",
       "  </thead>\n",
       "  <tbody>\n",
       "    <tr>\n",
       "      <th>0</th>\n",
       "      <td>2.987250e+13</td>\n",
       "      <td>5642903</td>\n",
       "      <td>F</td>\n",
       "      <td>2016-04-29T18:38:08Z</td>\n",
       "      <td>2016-04-29T00:00:00Z</td>\n",
       "      <td>62</td>\n",
       "      <td>JARDIM DA PENHA</td>\n",
       "      <td>0</td>\n",
       "      <td>1</td>\n",
       "      <td>0</td>\n",
       "      <td>0</td>\n",
       "      <td>0</td>\n",
       "      <td>0</td>\n",
       "      <td>No</td>\n",
       "    </tr>\n",
       "    <tr>\n",
       "      <th>1</th>\n",
       "      <td>5.589978e+14</td>\n",
       "      <td>5642503</td>\n",
       "      <td>M</td>\n",
       "      <td>2016-04-29T16:08:27Z</td>\n",
       "      <td>2016-04-29T00:00:00Z</td>\n",
       "      <td>56</td>\n",
       "      <td>JARDIM DA PENHA</td>\n",
       "      <td>0</td>\n",
       "      <td>0</td>\n",
       "      <td>0</td>\n",
       "      <td>0</td>\n",
       "      <td>0</td>\n",
       "      <td>0</td>\n",
       "      <td>No</td>\n",
       "    </tr>\n",
       "    <tr>\n",
       "      <th>2</th>\n",
       "      <td>4.262962e+12</td>\n",
       "      <td>5642549</td>\n",
       "      <td>F</td>\n",
       "      <td>2016-04-29T16:19:04Z</td>\n",
       "      <td>2016-04-29T00:00:00Z</td>\n",
       "      <td>62</td>\n",
       "      <td>MATA DA PRAIA</td>\n",
       "      <td>0</td>\n",
       "      <td>0</td>\n",
       "      <td>0</td>\n",
       "      <td>0</td>\n",
       "      <td>0</td>\n",
       "      <td>0</td>\n",
       "      <td>No</td>\n",
       "    </tr>\n",
       "  </tbody>\n",
       "</table>\n",
       "</div>"
      ],
      "text/plain": [
       "      PatientId  AppointmentID Gender          ScheduledDay  \\\n",
       "0  2.987250e+13        5642903      F  2016-04-29T18:38:08Z   \n",
       "1  5.589978e+14        5642503      M  2016-04-29T16:08:27Z   \n",
       "2  4.262962e+12        5642549      F  2016-04-29T16:19:04Z   \n",
       "\n",
       "         AppointmentDay  Age    Neighbourhood  Scholarship  Hipertension  \\\n",
       "0  2016-04-29T00:00:00Z   62  JARDIM DA PENHA            0             1   \n",
       "1  2016-04-29T00:00:00Z   56  JARDIM DA PENHA            0             0   \n",
       "2  2016-04-29T00:00:00Z   62    MATA DA PRAIA            0             0   \n",
       "\n",
       "   Diabetes  Alcoholism  Handcap  SMS_received No-show  \n",
       "0         0           0        0             0      No  \n",
       "1         0           0        0             0      No  \n",
       "2         0           0        0             0      No  "
      ]
     },
     "execution_count": 4,
     "metadata": {},
     "output_type": "execute_result"
    }
   ],
   "source": [
    "# Function to read a Comma separated values (CSV) file\n",
    "def load_data(arg):\n",
    "    df = pd.read_csv(arg)\n",
    "    \n",
    "    return df\n",
    "\n",
    "data = load_data('noshowappointments-kagglev2-may-2016.csv')\n",
    "\n",
    "# Show the top three records include the heading features\n",
    "data.head(3)"
   ]
  },
  {
   "cell_type": "code",
   "execution_count": 5,
   "metadata": {},
   "outputs": [
    {
     "data": {
      "text/html": [
       "<div>\n",
       "<style scoped>\n",
       "    .dataframe tbody tr th:only-of-type {\n",
       "        vertical-align: middle;\n",
       "    }\n",
       "\n",
       "    .dataframe tbody tr th {\n",
       "        vertical-align: top;\n",
       "    }\n",
       "\n",
       "    .dataframe thead th {\n",
       "        text-align: right;\n",
       "    }\n",
       "</style>\n",
       "<table border=\"1\" class=\"dataframe\">\n",
       "  <thead>\n",
       "    <tr style=\"text-align: right;\">\n",
       "      <th></th>\n",
       "      <th>PatientId</th>\n",
       "      <th>AppointmentID</th>\n",
       "      <th>Gender</th>\n",
       "      <th>ScheduledDay</th>\n",
       "      <th>AppointmentDay</th>\n",
       "      <th>Age</th>\n",
       "      <th>Neighbourhood</th>\n",
       "      <th>Scholarship</th>\n",
       "      <th>Hipertension</th>\n",
       "      <th>Diabetes</th>\n",
       "      <th>Alcoholism</th>\n",
       "      <th>Handcap</th>\n",
       "      <th>SMS_received</th>\n",
       "      <th>No-show</th>\n",
       "    </tr>\n",
       "  </thead>\n",
       "  <tbody>\n",
       "    <tr>\n",
       "      <th>110522</th>\n",
       "      <td>2.572134e+12</td>\n",
       "      <td>5651768</td>\n",
       "      <td>F</td>\n",
       "      <td>2016-05-03T09:15:35Z</td>\n",
       "      <td>2016-06-07T00:00:00Z</td>\n",
       "      <td>56</td>\n",
       "      <td>MARIA ORTIZ</td>\n",
       "      <td>0</td>\n",
       "      <td>0</td>\n",
       "      <td>0</td>\n",
       "      <td>0</td>\n",
       "      <td>0</td>\n",
       "      <td>1</td>\n",
       "      <td>No</td>\n",
       "    </tr>\n",
       "    <tr>\n",
       "      <th>110523</th>\n",
       "      <td>3.596266e+12</td>\n",
       "      <td>5650093</td>\n",
       "      <td>F</td>\n",
       "      <td>2016-05-03T07:27:33Z</td>\n",
       "      <td>2016-06-07T00:00:00Z</td>\n",
       "      <td>51</td>\n",
       "      <td>MARIA ORTIZ</td>\n",
       "      <td>0</td>\n",
       "      <td>0</td>\n",
       "      <td>0</td>\n",
       "      <td>0</td>\n",
       "      <td>0</td>\n",
       "      <td>1</td>\n",
       "      <td>No</td>\n",
       "    </tr>\n",
       "    <tr>\n",
       "      <th>110524</th>\n",
       "      <td>1.557663e+13</td>\n",
       "      <td>5630692</td>\n",
       "      <td>F</td>\n",
       "      <td>2016-04-27T16:03:52Z</td>\n",
       "      <td>2016-06-07T00:00:00Z</td>\n",
       "      <td>21</td>\n",
       "      <td>MARIA ORTIZ</td>\n",
       "      <td>0</td>\n",
       "      <td>0</td>\n",
       "      <td>0</td>\n",
       "      <td>0</td>\n",
       "      <td>0</td>\n",
       "      <td>1</td>\n",
       "      <td>No</td>\n",
       "    </tr>\n",
       "    <tr>\n",
       "      <th>110525</th>\n",
       "      <td>9.213493e+13</td>\n",
       "      <td>5630323</td>\n",
       "      <td>F</td>\n",
       "      <td>2016-04-27T15:09:23Z</td>\n",
       "      <td>2016-06-07T00:00:00Z</td>\n",
       "      <td>38</td>\n",
       "      <td>MARIA ORTIZ</td>\n",
       "      <td>0</td>\n",
       "      <td>0</td>\n",
       "      <td>0</td>\n",
       "      <td>0</td>\n",
       "      <td>0</td>\n",
       "      <td>1</td>\n",
       "      <td>No</td>\n",
       "    </tr>\n",
       "    <tr>\n",
       "      <th>110526</th>\n",
       "      <td>3.775115e+14</td>\n",
       "      <td>5629448</td>\n",
       "      <td>F</td>\n",
       "      <td>2016-04-27T13:30:56Z</td>\n",
       "      <td>2016-06-07T00:00:00Z</td>\n",
       "      <td>54</td>\n",
       "      <td>MARIA ORTIZ</td>\n",
       "      <td>0</td>\n",
       "      <td>0</td>\n",
       "      <td>0</td>\n",
       "      <td>0</td>\n",
       "      <td>0</td>\n",
       "      <td>1</td>\n",
       "      <td>No</td>\n",
       "    </tr>\n",
       "  </tbody>\n",
       "</table>\n",
       "</div>"
      ],
      "text/plain": [
       "           PatientId  AppointmentID Gender          ScheduledDay  \\\n",
       "110522  2.572134e+12        5651768      F  2016-05-03T09:15:35Z   \n",
       "110523  3.596266e+12        5650093      F  2016-05-03T07:27:33Z   \n",
       "110524  1.557663e+13        5630692      F  2016-04-27T16:03:52Z   \n",
       "110525  9.213493e+13        5630323      F  2016-04-27T15:09:23Z   \n",
       "110526  3.775115e+14        5629448      F  2016-04-27T13:30:56Z   \n",
       "\n",
       "              AppointmentDay  Age Neighbourhood  Scholarship  Hipertension  \\\n",
       "110522  2016-06-07T00:00:00Z   56   MARIA ORTIZ            0             0   \n",
       "110523  2016-06-07T00:00:00Z   51   MARIA ORTIZ            0             0   \n",
       "110524  2016-06-07T00:00:00Z   21   MARIA ORTIZ            0             0   \n",
       "110525  2016-06-07T00:00:00Z   38   MARIA ORTIZ            0             0   \n",
       "110526  2016-06-07T00:00:00Z   54   MARIA ORTIZ            0             0   \n",
       "\n",
       "        Diabetes  Alcoholism  Handcap  SMS_received No-show  \n",
       "110522         0           0        0             1      No  \n",
       "110523         0           0        0             1      No  \n",
       "110524         0           0        0             1      No  \n",
       "110525         0           0        0             1      No  \n",
       "110526         0           0        0             1      No  "
      ]
     },
     "execution_count": 5,
     "metadata": {},
     "output_type": "execute_result"
    }
   ],
   "source": [
    "# Print the last five records of the dataset\n",
    "data.tail()"
   ]
  },
  {
   "cell_type": "code",
   "execution_count": 6,
   "metadata": {},
   "outputs": [
    {
     "data": {
      "text/plain": [
       "(110527, 14)"
      ]
     },
     "execution_count": 6,
     "metadata": {},
     "output_type": "execute_result"
    }
   ],
   "source": [
    "# Prints the number of rows and columns of our Dataset\n",
    "data.shape"
   ]
  },
  {
   "cell_type": "markdown",
   "metadata": {},
   "source": [
    "The dataset contained **110527** Rows and **14** Columns"
   ]
  },
  {
   "cell_type": "code",
   "execution_count": 7,
   "metadata": {},
   "outputs": [
    {
     "name": "stdout",
     "output_type": "stream",
     "text": [
      "<class 'pandas.core.frame.DataFrame'>\n",
      "RangeIndex: 110527 entries, 0 to 110526\n",
      "Data columns (total 14 columns):\n",
      " #   Column          Non-Null Count   Dtype  \n",
      "---  ------          --------------   -----  \n",
      " 0   PatientId       110527 non-null  float64\n",
      " 1   AppointmentID   110527 non-null  int64  \n",
      " 2   Gender          110527 non-null  object \n",
      " 3   ScheduledDay    110527 non-null  object \n",
      " 4   AppointmentDay  110527 non-null  object \n",
      " 5   Age             110527 non-null  int64  \n",
      " 6   Neighbourhood   110527 non-null  object \n",
      " 7   Scholarship     110527 non-null  int64  \n",
      " 8   Hipertension    110527 non-null  int64  \n",
      " 9   Diabetes        110527 non-null  int64  \n",
      " 10  Alcoholism      110527 non-null  int64  \n",
      " 11  Handcap         110527 non-null  int64  \n",
      " 12  SMS_received    110527 non-null  int64  \n",
      " 13  No-show         110527 non-null  object \n",
      "dtypes: float64(1), int64(8), object(5)\n",
      "memory usage: 11.8+ MB\n"
     ]
    }
   ],
   "source": [
    "# Print more information about the DataFrame.\n",
    "data.info()"
   ]
  },
  {
   "cell_type": "markdown",
   "metadata": {},
   "source": [
    "The data types shown **ScheduledDay and AppointmentDay** as obejct/string should be datetime/int"
   ]
  },
  {
   "cell_type": "code",
   "execution_count": 8,
   "metadata": {},
   "outputs": [
    {
     "data": {
      "text/plain": [
       "False"
      ]
     },
     "execution_count": 8,
     "metadata": {},
     "output_type": "execute_result"
    }
   ],
   "source": [
    "# Check of duplicated values in the dataset\n",
    "data.duplicated().any()"
   ]
  },
  {
   "cell_type": "markdown",
   "metadata": {},
   "source": [
    "Found no duplicated rows in the dataset"
   ]
  },
  {
   "cell_type": "code",
   "execution_count": 9,
   "metadata": {},
   "outputs": [
    {
     "data": {
      "text/plain": [
       "PatientId         0\n",
       "AppointmentID     0\n",
       "Gender            0\n",
       "ScheduledDay      0\n",
       "AppointmentDay    0\n",
       "Age               0\n",
       "Neighbourhood     0\n",
       "Scholarship       0\n",
       "Hipertension      0\n",
       "Diabetes          0\n",
       "Alcoholism        0\n",
       "Handcap           0\n",
       "SMS_received      0\n",
       "No-show           0\n",
       "dtype: int64"
      ]
     },
     "execution_count": 9,
     "metadata": {},
     "output_type": "execute_result"
    }
   ],
   "source": [
    "# Checking for missing values in the dataset\n",
    "data.isnull().sum()"
   ]
  },
  {
   "cell_type": "markdown",
   "metadata": {},
   "source": [
    "Found **No missing** data in the dataset"
   ]
  },
  {
   "cell_type": "code",
   "execution_count": 10,
   "metadata": {},
   "outputs": [
    {
     "data": {
      "text/plain": [
       "F    71840\n",
       "M    38687\n",
       "Name: Gender, dtype: int64"
      ]
     },
     "execution_count": 10,
     "metadata": {},
     "output_type": "execute_result"
    }
   ],
   "source": [
    "# Print the number Male and Female present in the dataset\n",
    "data.Gender.value_counts()"
   ]
  },
  {
   "cell_type": "code",
   "execution_count": 11,
   "metadata": {},
   "outputs": [
    {
     "data": {
      "text/plain": [
       "62299"
      ]
     },
     "execution_count": 11,
     "metadata": {},
     "output_type": "execute_result"
    }
   ],
   "source": [
    "# Print Number of unique Patient ID\n",
    "data.PatientId.nunique()"
   ]
  },
  {
   "cell_type": "code",
   "execution_count": 12,
   "metadata": {},
   "outputs": [
    {
     "data": {
      "text/plain": [
       "48228"
      ]
     },
     "execution_count": 12,
     "metadata": {},
     "output_type": "execute_result"
    }
   ],
   "source": [
    "#Print number of dulicated Patient ID\n",
    "data.PatientId.duplicated().sum()"
   ]
  },
  {
   "cell_type": "code",
   "execution_count": 13,
   "metadata": {},
   "outputs": [
    {
     "data": {
      "text/plain": [
       "No     88208\n",
       "Yes    22319\n",
       "Name: No-show, dtype: int64"
      ]
     },
     "execution_count": 13,
     "metadata": {},
     "output_type": "execute_result"
    }
   ],
   "source": [
    "# Print the no-shows values count\n",
    "data['No-show'].value_counts()"
   ]
  },
  {
   "cell_type": "markdown",
   "metadata": {},
   "source": [
    "The dateset shown **88208** patient showed up to their appointment and **22319** didn't showed up"
   ]
  },
  {
   "cell_type": "code",
   "execution_count": 14,
   "metadata": {},
   "outputs": [
    {
     "data": {
      "text/plain": [
       "38710"
      ]
     },
     "execution_count": 14,
     "metadata": {},
     "output_type": "execute_result"
    }
   ],
   "source": [
    "# Print duplicated 'Patient Id' with the 'No-show' status.\n",
    "data.duplicated(['PatientId', 'No-show']).sum()"
   ]
  },
  {
   "cell_type": "markdown",
   "metadata": {},
   "source": [
    "The dataset contained **38,710** Patient having the same **\"no-show\"** status or duplicated rows \n",
    "that will be Dropped in the Cleaning phase"
   ]
  },
  {
   "cell_type": "code",
   "execution_count": 15,
   "metadata": {},
   "outputs": [
    {
     "data": {
      "text/html": [
       "<div>\n",
       "<style scoped>\n",
       "    .dataframe tbody tr th:only-of-type {\n",
       "        vertical-align: middle;\n",
       "    }\n",
       "\n",
       "    .dataframe tbody tr th {\n",
       "        vertical-align: top;\n",
       "    }\n",
       "\n",
       "    .dataframe thead th {\n",
       "        text-align: right;\n",
       "    }\n",
       "</style>\n",
       "<table border=\"1\" class=\"dataframe\">\n",
       "  <thead>\n",
       "    <tr style=\"text-align: right;\">\n",
       "      <th></th>\n",
       "      <th>PatientId</th>\n",
       "      <th>AppointmentID</th>\n",
       "      <th>Age</th>\n",
       "      <th>Scholarship</th>\n",
       "      <th>Hipertension</th>\n",
       "      <th>Diabetes</th>\n",
       "      <th>Alcoholism</th>\n",
       "      <th>Handcap</th>\n",
       "      <th>SMS_received</th>\n",
       "    </tr>\n",
       "  </thead>\n",
       "  <tbody>\n",
       "    <tr>\n",
       "      <th>count</th>\n",
       "      <td>1.105270e+05</td>\n",
       "      <td>1.105270e+05</td>\n",
       "      <td>110527.000000</td>\n",
       "      <td>110527.000000</td>\n",
       "      <td>110527.000000</td>\n",
       "      <td>110527.000000</td>\n",
       "      <td>110527.000000</td>\n",
       "      <td>110527.000000</td>\n",
       "      <td>110527.000000</td>\n",
       "    </tr>\n",
       "    <tr>\n",
       "      <th>mean</th>\n",
       "      <td>1.474963e+14</td>\n",
       "      <td>5.675305e+06</td>\n",
       "      <td>37.088874</td>\n",
       "      <td>0.098266</td>\n",
       "      <td>0.197246</td>\n",
       "      <td>0.071865</td>\n",
       "      <td>0.030400</td>\n",
       "      <td>0.022248</td>\n",
       "      <td>0.321026</td>\n",
       "    </tr>\n",
       "    <tr>\n",
       "      <th>std</th>\n",
       "      <td>2.560949e+14</td>\n",
       "      <td>7.129575e+04</td>\n",
       "      <td>23.110205</td>\n",
       "      <td>0.297675</td>\n",
       "      <td>0.397921</td>\n",
       "      <td>0.258265</td>\n",
       "      <td>0.171686</td>\n",
       "      <td>0.161543</td>\n",
       "      <td>0.466873</td>\n",
       "    </tr>\n",
       "    <tr>\n",
       "      <th>min</th>\n",
       "      <td>3.921784e+04</td>\n",
       "      <td>5.030230e+06</td>\n",
       "      <td>-1.000000</td>\n",
       "      <td>0.000000</td>\n",
       "      <td>0.000000</td>\n",
       "      <td>0.000000</td>\n",
       "      <td>0.000000</td>\n",
       "      <td>0.000000</td>\n",
       "      <td>0.000000</td>\n",
       "    </tr>\n",
       "    <tr>\n",
       "      <th>25%</th>\n",
       "      <td>4.172614e+12</td>\n",
       "      <td>5.640286e+06</td>\n",
       "      <td>18.000000</td>\n",
       "      <td>0.000000</td>\n",
       "      <td>0.000000</td>\n",
       "      <td>0.000000</td>\n",
       "      <td>0.000000</td>\n",
       "      <td>0.000000</td>\n",
       "      <td>0.000000</td>\n",
       "    </tr>\n",
       "    <tr>\n",
       "      <th>50%</th>\n",
       "      <td>3.173184e+13</td>\n",
       "      <td>5.680573e+06</td>\n",
       "      <td>37.000000</td>\n",
       "      <td>0.000000</td>\n",
       "      <td>0.000000</td>\n",
       "      <td>0.000000</td>\n",
       "      <td>0.000000</td>\n",
       "      <td>0.000000</td>\n",
       "      <td>0.000000</td>\n",
       "    </tr>\n",
       "    <tr>\n",
       "      <th>75%</th>\n",
       "      <td>9.439172e+13</td>\n",
       "      <td>5.725524e+06</td>\n",
       "      <td>55.000000</td>\n",
       "      <td>0.000000</td>\n",
       "      <td>0.000000</td>\n",
       "      <td>0.000000</td>\n",
       "      <td>0.000000</td>\n",
       "      <td>0.000000</td>\n",
       "      <td>1.000000</td>\n",
       "    </tr>\n",
       "    <tr>\n",
       "      <th>max</th>\n",
       "      <td>9.999816e+14</td>\n",
       "      <td>5.790484e+06</td>\n",
       "      <td>115.000000</td>\n",
       "      <td>1.000000</td>\n",
       "      <td>1.000000</td>\n",
       "      <td>1.000000</td>\n",
       "      <td>1.000000</td>\n",
       "      <td>4.000000</td>\n",
       "      <td>1.000000</td>\n",
       "    </tr>\n",
       "  </tbody>\n",
       "</table>\n",
       "</div>"
      ],
      "text/plain": [
       "          PatientId  AppointmentID            Age    Scholarship  \\\n",
       "count  1.105270e+05   1.105270e+05  110527.000000  110527.000000   \n",
       "mean   1.474963e+14   5.675305e+06      37.088874       0.098266   \n",
       "std    2.560949e+14   7.129575e+04      23.110205       0.297675   \n",
       "min    3.921784e+04   5.030230e+06      -1.000000       0.000000   \n",
       "25%    4.172614e+12   5.640286e+06      18.000000       0.000000   \n",
       "50%    3.173184e+13   5.680573e+06      37.000000       0.000000   \n",
       "75%    9.439172e+13   5.725524e+06      55.000000       0.000000   \n",
       "max    9.999816e+14   5.790484e+06     115.000000       1.000000   \n",
       "\n",
       "        Hipertension       Diabetes     Alcoholism        Handcap  \\\n",
       "count  110527.000000  110527.000000  110527.000000  110527.000000   \n",
       "mean        0.197246       0.071865       0.030400       0.022248   \n",
       "std         0.397921       0.258265       0.171686       0.161543   \n",
       "min         0.000000       0.000000       0.000000       0.000000   \n",
       "25%         0.000000       0.000000       0.000000       0.000000   \n",
       "50%         0.000000       0.000000       0.000000       0.000000   \n",
       "75%         0.000000       0.000000       0.000000       0.000000   \n",
       "max         1.000000       1.000000       1.000000       4.000000   \n",
       "\n",
       "        SMS_received  \n",
       "count  110527.000000  \n",
       "mean        0.321026  \n",
       "std         0.466873  \n",
       "min         0.000000  \n",
       "25%         0.000000  \n",
       "50%         0.000000  \n",
       "75%         1.000000  \n",
       "max         1.000000  "
      ]
     },
     "execution_count": 15,
     "metadata": {},
     "output_type": "execute_result"
    }
   ],
   "source": [
    "# Describe function the Statistical summary of the dataframe. This includes mean,count,min-max etc.\n",
    "data.describe()"
   ]
  },
  {
   "cell_type": "code",
   "execution_count": 16,
   "metadata": {},
   "outputs": [
    {
     "data": {
      "text/plain": [
       "count    110527.000000\n",
       "mean         37.088874\n",
       "std          23.110205\n",
       "min          -1.000000\n",
       "25%          18.000000\n",
       "50%          37.000000\n",
       "75%          55.000000\n",
       "max         115.000000\n",
       "Name: Age, dtype: float64"
      ]
     },
     "execution_count": 16,
     "metadata": {},
     "output_type": "execute_result"
    }
   ],
   "source": [
    "# Invesitage the Age variable using describe function\n",
    "data.Age.describe()"
   ]
  },
  {
   "cell_type": "markdown",
   "metadata": {},
   "source": [
    "- The **average ages** in the dataset is **37**, and the **heighest** is **115**.\n",
    "- The dataset showns **50%** of Ages are between the **18** and **55**\n",
    "- A **min age** of **-1** shown in the dataset that will be **dropped in cleaning stage**"
   ]
  },
  {
   "cell_type": "code",
   "execution_count": 17,
   "metadata": {},
   "outputs": [
    {
     "data": {
      "text/html": [
       "<div>\n",
       "<style scoped>\n",
       "    .dataframe tbody tr th:only-of-type {\n",
       "        vertical-align: middle;\n",
       "    }\n",
       "\n",
       "    .dataframe tbody tr th {\n",
       "        vertical-align: top;\n",
       "    }\n",
       "\n",
       "    .dataframe thead th {\n",
       "        text-align: right;\n",
       "    }\n",
       "</style>\n",
       "<table border=\"1\" class=\"dataframe\">\n",
       "  <thead>\n",
       "    <tr style=\"text-align: right;\">\n",
       "      <th></th>\n",
       "      <th>PatientId</th>\n",
       "      <th>AppointmentID</th>\n",
       "      <th>Gender</th>\n",
       "      <th>ScheduledDay</th>\n",
       "      <th>AppointmentDay</th>\n",
       "      <th>Age</th>\n",
       "      <th>Neighbourhood</th>\n",
       "      <th>Scholarship</th>\n",
       "      <th>Hipertension</th>\n",
       "      <th>Diabetes</th>\n",
       "      <th>Alcoholism</th>\n",
       "      <th>Handcap</th>\n",
       "      <th>SMS_received</th>\n",
       "      <th>No-show</th>\n",
       "    </tr>\n",
       "  </thead>\n",
       "  <tbody>\n",
       "    <tr>\n",
       "      <th>99832</th>\n",
       "      <td>4.659432e+14</td>\n",
       "      <td>5775010</td>\n",
       "      <td>F</td>\n",
       "      <td>2016-06-06T08:58:13Z</td>\n",
       "      <td>2016-06-06T00:00:00Z</td>\n",
       "      <td>-1</td>\n",
       "      <td>ROMÃO</td>\n",
       "      <td>0</td>\n",
       "      <td>0</td>\n",
       "      <td>0</td>\n",
       "      <td>0</td>\n",
       "      <td>0</td>\n",
       "      <td>0</td>\n",
       "      <td>No</td>\n",
       "    </tr>\n",
       "  </tbody>\n",
       "</table>\n",
       "</div>"
      ],
      "text/plain": [
       "          PatientId  AppointmentID Gender          ScheduledDay  \\\n",
       "99832  4.659432e+14        5775010      F  2016-06-06T08:58:13Z   \n",
       "\n",
       "             AppointmentDay  Age Neighbourhood  Scholarship  Hipertension  \\\n",
       "99832  2016-06-06T00:00:00Z   -1         ROMÃO            0             0   \n",
       "\n",
       "       Diabetes  Alcoholism  Handcap  SMS_received No-show  \n",
       "99832         0           0        0             0      No  "
      ]
     },
     "execution_count": 17,
     "metadata": {},
     "output_type": "execute_result"
    }
   ],
   "source": [
    "# Check for any other Age less than 0\n",
    "negative_record = data.query('Age < 0')\n",
    "negative_record"
   ]
  },
  {
   "cell_type": "markdown",
   "metadata": {},
   "source": [
    "There is a female patient with negative of **-1** Age value, we'll this to make our analysis suitable "
   ]
  },
  {
   "cell_type": "markdown",
   "metadata": {},
   "source": [
    "# Data Cleaning\n",
    "\n",
    "Now that we've conducted visual and programmatics accessments in the dataset, at least we now know some of the necessary fields, records that we will be cleaning to make our data analysis more suitable. We've identify the following steps to reference in our data cleaning process.\n",
    "- Drop the 'Handcap' Column\n",
    "- Change the 'ScheduledDay' Datatype from String to Datetime\n",
    "- Change the 'AppointmentDay' Datatype from String to Datetime\n",
    "- Drop the row in the 'Age' coulum that less than < 0 \n",
    "- Extract the date only from the timestamp of the ScheduledDay and AppointmentDay\n",
    "- Rename some columns to make them consistent like the others\n",
    "- Drop duplication rocord with the PatientId No-show status\n",
    "\n",
    "\n",
    "**NOTE**\n",
    "- **Visual assessment** This involves looking at your dataset in its entirety in whatever program you like. For example reading a **CSV file** from pandas and figure out which rows or colums alread has missing values  \n",
    "- **Programmatic assessment** using functions and methods to reveal something about your data's quality and tidiness. For example, in pandas, we can call the .info method to print a concise summary of a DataFrame"
   ]
  },
  {
   "cell_type": "code",
   "execution_count": 18,
   "metadata": {},
   "outputs": [],
   "source": [
    "# Cope the above that set to make necessary changes/modification\n",
    "clean_df = data.copy()"
   ]
  },
  {
   "cell_type": "code",
   "execution_count": 19,
   "metadata": {},
   "outputs": [],
   "source": [
    "# Drop the 'Handcap' Column\n",
    "clean_df.drop(['Handcap'],axis=1, inplace=True)"
   ]
  },
  {
   "cell_type": "code",
   "execution_count": 20,
   "metadata": {},
   "outputs": [
    {
     "data": {
      "text/plain": [
       "PatientId                float64\n",
       "AppointmentID              int64\n",
       "Gender                    object\n",
       "ScheduledDay      datetime64[ns]\n",
       "AppointmentDay    datetime64[ns]\n",
       "Age                        int64\n",
       "Neighbourhood             object\n",
       "Scholarship                int64\n",
       "Hipertension               int64\n",
       "Diabetes                   int64\n",
       "Alcoholism                 int64\n",
       "SMS_received               int64\n",
       "No-show                   object\n",
       "dtype: object"
      ]
     },
     "execution_count": 20,
     "metadata": {},
     "output_type": "execute_result"
    }
   ],
   "source": [
    "#Change the 'ScheduledDay' Datatype from String/object to Datetime\n",
    "column_with_date = ['ScheduledDay','AppointmentDay']\n",
    "for dates in column_with_date:\n",
    "    clean_df[dates] = pd.to_datetime(pd.to_datetime(clean_df[dates]).dt.date)\n",
    "\n",
    "clean_df.dtypes"
   ]
  },
  {
   "cell_type": "markdown",
   "metadata": {},
   "source": [
    "We've change the ScheduledDay and AppointmentDay from object/string datatype to datatime"
   ]
  },
  {
   "cell_type": "code",
   "execution_count": 21,
   "metadata": {},
   "outputs": [
    {
     "data": {
      "text/html": [
       "<div>\n",
       "<style scoped>\n",
       "    .dataframe tbody tr th:only-of-type {\n",
       "        vertical-align: middle;\n",
       "    }\n",
       "\n",
       "    .dataframe tbody tr th {\n",
       "        vertical-align: top;\n",
       "    }\n",
       "\n",
       "    .dataframe thead th {\n",
       "        text-align: right;\n",
       "    }\n",
       "</style>\n",
       "<table border=\"1\" class=\"dataframe\">\n",
       "  <thead>\n",
       "    <tr style=\"text-align: right;\">\n",
       "      <th></th>\n",
       "      <th>PatientId</th>\n",
       "      <th>AppointmentID</th>\n",
       "      <th>Gender</th>\n",
       "      <th>ScheduledDay</th>\n",
       "      <th>AppointmentDay</th>\n",
       "      <th>Age</th>\n",
       "      <th>Neighbourhood</th>\n",
       "      <th>Scholarship</th>\n",
       "      <th>Hipertension</th>\n",
       "      <th>Diabetes</th>\n",
       "      <th>Alcoholism</th>\n",
       "      <th>SMS_received</th>\n",
       "      <th>No-show</th>\n",
       "    </tr>\n",
       "  </thead>\n",
       "  <tbody>\n",
       "    <tr>\n",
       "      <th>31678</th>\n",
       "      <td>3.471615e+13</td>\n",
       "      <td>5686108</td>\n",
       "      <td>M</td>\n",
       "      <td>2016-05-11</td>\n",
       "      <td>2016-05-13</td>\n",
       "      <td>0</td>\n",
       "      <td>DO CABRAL</td>\n",
       "      <td>0</td>\n",
       "      <td>0</td>\n",
       "      <td>0</td>\n",
       "      <td>0</td>\n",
       "      <td>0</td>\n",
       "      <td>No</td>\n",
       "    </tr>\n",
       "    <tr>\n",
       "      <th>73557</th>\n",
       "      <td>3.828862e+12</td>\n",
       "      <td>5636779</td>\n",
       "      <td>M</td>\n",
       "      <td>2016-04-28</td>\n",
       "      <td>2016-05-03</td>\n",
       "      <td>64</td>\n",
       "      <td>MARIA ORTIZ</td>\n",
       "      <td>0</td>\n",
       "      <td>0</td>\n",
       "      <td>0</td>\n",
       "      <td>0</td>\n",
       "      <td>1</td>\n",
       "      <td>No</td>\n",
       "    </tr>\n",
       "  </tbody>\n",
       "</table>\n",
       "</div>"
      ],
      "text/plain": [
       "          PatientId  AppointmentID Gender ScheduledDay AppointmentDay  Age  \\\n",
       "31678  3.471615e+13        5686108      M   2016-05-11     2016-05-13    0   \n",
       "73557  3.828862e+12        5636779      M   2016-04-28     2016-05-03   64   \n",
       "\n",
       "      Neighbourhood  Scholarship  Hipertension  Diabetes  Alcoholism  \\\n",
       "31678     DO CABRAL            0             0         0           0   \n",
       "73557   MARIA ORTIZ            0             0         0           0   \n",
       "\n",
       "       SMS_received No-show  \n",
       "31678             0      No  \n",
       "73557             1      No  "
      ]
     },
     "execution_count": 21,
     "metadata": {},
     "output_type": "execute_result"
    }
   ],
   "source": [
    "# Confirm that the 'ScheduledDay' and 'AppointmentDay' are extracted from object/string\n",
    "# The sample function takes rendom rocords from the dataset\n",
    "clean_df.sample(2)"
   ]
  },
  {
   "cell_type": "code",
   "execution_count": 22,
   "metadata": {},
   "outputs": [
    {
     "data": {
      "text/html": [
       "<div>\n",
       "<style scoped>\n",
       "    .dataframe tbody tr th:only-of-type {\n",
       "        vertical-align: middle;\n",
       "    }\n",
       "\n",
       "    .dataframe tbody tr th {\n",
       "        vertical-align: top;\n",
       "    }\n",
       "\n",
       "    .dataframe thead th {\n",
       "        text-align: right;\n",
       "    }\n",
       "</style>\n",
       "<table border=\"1\" class=\"dataframe\">\n",
       "  <thead>\n",
       "    <tr style=\"text-align: right;\">\n",
       "      <th></th>\n",
       "      <th>PatientId</th>\n",
       "      <th>AppointmentID</th>\n",
       "      <th>Gender</th>\n",
       "      <th>ScheduledDay</th>\n",
       "      <th>AppointmentDay</th>\n",
       "      <th>Age</th>\n",
       "      <th>Neighbourhood</th>\n",
       "      <th>Scholarship</th>\n",
       "      <th>Hipertension</th>\n",
       "      <th>Diabetes</th>\n",
       "      <th>Alcoholism</th>\n",
       "      <th>SMS_received</th>\n",
       "      <th>No-show</th>\n",
       "    </tr>\n",
       "  </thead>\n",
       "  <tbody>\n",
       "  </tbody>\n",
       "</table>\n",
       "</div>"
      ],
      "text/plain": [
       "Empty DataFrame\n",
       "Columns: [PatientId, AppointmentID, Gender, ScheduledDay, AppointmentDay, Age, Neighbourhood, Scholarship, Hipertension, Diabetes, Alcoholism, SMS_received, No-show]\n",
       "Index: []"
      ]
     },
     "execution_count": 22,
     "metadata": {},
     "output_type": "execute_result"
    }
   ],
   "source": [
    "# Drop the row in the 'Age' coulum that less than < 0 \n",
    "clean_df.drop(negative_record.index, inplace=True)\n",
    "\n",
    "# Check to confirm record dropped\n",
    "clean_df.query('Age < 0')"
   ]
  },
  {
   "cell_type": "markdown",
   "metadata": {},
   "source": [
    "**Negetive Record (-1)** was dropped successfully"
   ]
  },
  {
   "cell_type": "code",
   "execution_count": 23,
   "metadata": {},
   "outputs": [
    {
     "data": {
      "text/html": [
       "<div>\n",
       "<style scoped>\n",
       "    .dataframe tbody tr th:only-of-type {\n",
       "        vertical-align: middle;\n",
       "    }\n",
       "\n",
       "    .dataframe tbody tr th {\n",
       "        vertical-align: top;\n",
       "    }\n",
       "\n",
       "    .dataframe thead th {\n",
       "        text-align: right;\n",
       "    }\n",
       "</style>\n",
       "<table border=\"1\" class=\"dataframe\">\n",
       "  <thead>\n",
       "    <tr style=\"text-align: right;\">\n",
       "      <th></th>\n",
       "      <th>Patient_Id</th>\n",
       "      <th>Appointment_Id</th>\n",
       "      <th>Gender</th>\n",
       "      <th>Scheduled_Day</th>\n",
       "      <th>Appointment_Day</th>\n",
       "      <th>Age</th>\n",
       "      <th>Neighbourhood</th>\n",
       "      <th>Scholarship</th>\n",
       "      <th>Hypertension</th>\n",
       "      <th>Diabetes</th>\n",
       "      <th>Alcoholism</th>\n",
       "      <th>SMS_Received</th>\n",
       "      <th>No_Show</th>\n",
       "    </tr>\n",
       "  </thead>\n",
       "  <tbody>\n",
       "    <tr>\n",
       "      <th>41053</th>\n",
       "      <td>5.968656e+12</td>\n",
       "      <td>5563484</td>\n",
       "      <td>M</td>\n",
       "      <td>2016-04-08</td>\n",
       "      <td>2016-05-12</td>\n",
       "      <td>64</td>\n",
       "      <td>MARIA ORTIZ</td>\n",
       "      <td>0</td>\n",
       "      <td>0</td>\n",
       "      <td>0</td>\n",
       "      <td>0</td>\n",
       "      <td>1</td>\n",
       "      <td>No</td>\n",
       "    </tr>\n",
       "    <tr>\n",
       "      <th>49424</th>\n",
       "      <td>3.515454e+11</td>\n",
       "      <td>5650596</td>\n",
       "      <td>M</td>\n",
       "      <td>2016-05-03</td>\n",
       "      <td>2016-05-03</td>\n",
       "      <td>1</td>\n",
       "      <td>SANTOS DUMONT</td>\n",
       "      <td>1</td>\n",
       "      <td>0</td>\n",
       "      <td>0</td>\n",
       "      <td>0</td>\n",
       "      <td>0</td>\n",
       "      <td>No</td>\n",
       "    </tr>\n",
       "    <tr>\n",
       "      <th>49800</th>\n",
       "      <td>1.579781e+11</td>\n",
       "      <td>5596479</td>\n",
       "      <td>F</td>\n",
       "      <td>2016-04-18</td>\n",
       "      <td>2016-05-11</td>\n",
       "      <td>74</td>\n",
       "      <td>JARDIM DA PENHA</td>\n",
       "      <td>0</td>\n",
       "      <td>0</td>\n",
       "      <td>0</td>\n",
       "      <td>0</td>\n",
       "      <td>1</td>\n",
       "      <td>No</td>\n",
       "    </tr>\n",
       "  </tbody>\n",
       "</table>\n",
       "</div>"
      ],
      "text/plain": [
       "         Patient_Id  Appointment_Id Gender Scheduled_Day Appointment_Day  Age  \\\n",
       "41053  5.968656e+12         5563484      M    2016-04-08      2016-05-12   64   \n",
       "49424  3.515454e+11         5650596      M    2016-05-03      2016-05-03    1   \n",
       "49800  1.579781e+11         5596479      F    2016-04-18      2016-05-11   74   \n",
       "\n",
       "         Neighbourhood  Scholarship  Hypertension  Diabetes  Alcoholism  \\\n",
       "41053      MARIA ORTIZ            0             0         0           0   \n",
       "49424    SANTOS DUMONT            1             0         0           0   \n",
       "49800  JARDIM DA PENHA            0             0         0           0   \n",
       "\n",
       "       SMS_Received No_Show  \n",
       "41053             1      No  \n",
       "49424             0      No  \n",
       "49800             1      No  "
      ]
     },
     "execution_count": 23,
     "metadata": {},
     "output_type": "execute_result"
    }
   ],
   "source": [
    "# Here we use the rename method to make the selected columns look more consistent in appearance \n",
    "# and the 'inplace' to be Ture in order the change to be reflected\n",
    "clean_df.rename(columns={\n",
    "                    'PatientId': 'Patient_Id',\n",
    "                    'AppointmentID': 'Appointment_Id',\n",
    "                    'ScheduledDay':'Scheduled_Day',\n",
    "                    'AppointmentDay':'Appointment_Day',\n",
    "                    'SMS_received':'SMS_Received',\n",
    "                    'No-show':'No_Show',\n",
    "                    'Hipertension':'Hypertension'}, inplace=True)\n",
    "# confirm changes\n",
    "clean_df.sample(3)"
   ]
  },
  {
   "cell_type": "code",
   "execution_count": 24,
   "metadata": {},
   "outputs": [
    {
     "data": {
      "text/plain": [
       "(71816, 13)"
      ]
     },
     "execution_count": 24,
     "metadata": {},
     "output_type": "execute_result"
    }
   ],
   "source": [
    "#Drop duplication rocord with the PatientId No-show status\n",
    "clean_df.drop_duplicates(['Patient_Id', 'No_Show'], inplace=True)\n",
    "\n",
    "#Confirm changes\n",
    "clean_df.shape"
   ]
  },
  {
   "cell_type": "markdown",
   "metadata": {},
   "source": [
    "After duplicates records removed from the dataset we've **71816** Rows and **13** Columns"
   ]
  },
  {
   "cell_type": "markdown",
   "metadata": {},
   "source": [
    "<a id='eda'></a>\n",
    "## Exploratory Data Analysis\n",
    "\n",
    "> **Tip**: Now that you've trimmed and cleaned your data, you're ready to move on to exploration. Compute statistics and create visualizations with the goal of addressing the research questions that you posed in the Introduction section. It is recommended that you be systematic with your approach. Look at one variable at a time, and then follow it up by looking at relationships between variables.\n",
    "\n",
    "### Research Question 1 (Replace this header name!)"
   ]
  },
  {
   "cell_type": "code",
   "execution_count": 25,
   "metadata": {},
   "outputs": [
    {
     "data": {
      "image/png": "[encoded data removed]",
      "text/plain": [
       "<Figure size 1440x720 with 12 Axes>"
      ]
     },
     "metadata": {
      "needs_background": "light"
     },
     "output_type": "display_data"
    }
   ],
   "source": [
    "# General visual exploratory\n",
    "clean_df.hist(figsize=(20,10));"
   ]
  },
  {
   "cell_type": "code",
   "execution_count": 26,
   "metadata": {},
   "outputs": [],
   "source": [
    "# We've set the Attend Variable for the No_Show 'No' and Absent for the 'Yes' variable\n",
    "Attend = clean_df.No_Show == 'No'\n",
    "Absent = clean_df.No_Show == 'Yes'"
   ]
  },
  {
   "cell_type": "markdown",
   "metadata": {},
   "source": [
    "### Q1. The pacentage of patient show-up for appointment"
   ]
  },
  {
   "cell_type": "code",
   "execution_count": 27,
   "metadata": {},
   "outputs": [
    {
     "data": {
      "image/png": "[encoded data removed]",
      "text/plain": [
       "<Figure size 432x288 with 1 Axes>"
      ]
     },
     "metadata": {
      "needs_background": "light"
     },
     "output_type": "display_data"
    }
   ],
   "source": [
    "# Let see the number of patient show up for appointment (Attend or Not)\n",
    "show = sns.countplot(x='No_Show', data=clean_df, hue='No_Show', palette='cool');\n",
    "show.set_title('Attend/Absent No of patient show up of appointmet');\n",
    "show.set_xticklabels(['Attend', 'Absent']);"
   ]
  },
  {
   "cell_type": "code",
   "execution_count": 28,
   "metadata": {},
   "outputs": [
    {
     "data": {
      "image/png": "[encoded data removed]",
      "text/plain": [
       "<Figure size 1080x504 with 1 Axes>"
      ]
     },
     "metadata": {},
     "output_type": "display_data"
    }
   ],
   "source": [
    "# Let's Plot the pacentage of patient show-up for appointment\n",
    "pie_show = clean_df.No_Show.value_counts()\n",
    "colors = ['#2492e5','#907bc7']\n",
    "plt.figure(figsize=(15,7))\n",
    "plt.pie(pie_show, labels=['Attend', 'Absent'], startangle=90,\n",
    "        counterclock=True, autopct='%1.1f%%', colors=colors)\n",
    "plt.axis('square')\n",
    "plt.legend(loc='upper right')\n",
    "plt.title('Patients Appointment Status', fontsize=20);"
   ]
  },
  {
   "cell_type": "markdown",
   "metadata": {},
   "source": [
    "The dataset shown **75.4%** of Patient Attend and **24.6%** Absent"
   ]
  },
  {
   "cell_type": "markdown",
   "metadata": {},
   "source": [
    "### Q2: Does `Gender` Affect the Attendence?"
   ]
  },
  {
   "cell_type": "code",
   "execution_count": 29,
   "metadata": {
    "scrolled": true
   },
   "outputs": [
    {
     "data": {
      "image/png": "[encoded data removed]",
      "text/plain": [
       "<Figure size 432x288 with 1 Axes>"
      ]
     },
     "metadata": {
      "needs_background": "light"
     },
     "output_type": "display_data"
    }
   ],
   "source": [
    "show=sns.countplot(x=clean_df.Gender, data=clean_df, hue='No_Show', palette='terrain')\n",
    "show.set_title('Attend/Absent for Females and Males')\n",
    "show.set_xticklabels(['Females', 'Males'])\n",
    "plt.show()"
   ]
  },
  {
   "cell_type": "code",
   "execution_count": 30,
   "metadata": {},
   "outputs": [
    {
     "name": "stdout",
     "output_type": "stream",
     "text": [
      "Female attend: 34960, Female Absent: 11506\n",
      "Male attend: 19193, Male Absent: 6157\n",
      "Gender\n",
      "F    46466\n",
      "M    25350\n",
      "Name: No_Show, dtype: int64\n"
     ]
    }
   ],
   "source": [
    "# Query the dataset to get gender analysis \n",
    "F_attend = clean_df.query('Gender == \"F\" & No_Show == \"No\"').value_counts().sum()\n",
    "F_absent = clean_df.query('Gender == \"F\" & No_Show == \"Yes\"').value_counts().sum()\n",
    "M_attend = clean_df.query('Gender == \"M\" & No_Show == \"No\"').value_counts().sum()\n",
    "M_absent = clean_df.query('Gender == \"M\" & No_Show == \"Yes\"').value_counts().sum()\n",
    "\n",
    "color_counts = clean_df.groupby(['Gender']).count()['No_Show']\n",
    "\n",
    "print(f'Female attend: {F_attend}, Female Absent: {F_absent}')\n",
    "print(f'Male attend: {M_attend}, Male Absent: {M_absent}')\n",
    "print(color_counts)"
   ]
  },
  {
   "cell_type": "code",
   "execution_count": 31,
   "metadata": {},
   "outputs": [
    {
     "data": {
      "image/png": "[encoded data removed]",
      "text/plain": [
       "<Figure size 432x288 with 1 Axes>"
      ]
     },
     "metadata": {
      "needs_background": "light"
     },
     "output_type": "display_data"
    }
   ],
   "source": [
    "show=plt.bar([1,2,3,4],[F_attend,M_attend,F_absent,M_absent], \n",
    "        tick_label=['Female Present','Male Present','Female Absent','Male Absent'])\n",
    "plt.title('Patients Appointment Status');\n",
    "show[0].set_color('b')\n",
    "show[2].set_color('r')\n",
    "plt.show()"
   ]
  },
  {
   "cell_type": "code",
   "execution_count": 32,
   "metadata": {},
   "outputs": [
    {
     "data": {
      "image/png": "[encoded data removed]",
      "text/plain": [
       "<Figure size 432x288 with 1 Axes>"
      ]
     },
     "metadata": {},
     "output_type": "display_data"
    }
   ],
   "source": [
    "# Patients Appointment Status by Gender\n",
    "pie_show = clean_df['Gender'].value_counts()\n",
    "colors = ['#2492e5','#907bc7']\n",
    "plt.pie(pie_show, labels=['Female', 'Male'], startangle=90,\n",
    "        counterclock=True, autopct='%1.1f%%', colors=colors)\n",
    "plt.axis('square')\n",
    "plt.title('Patients Appointment Status by Gender');"
   ]
  },
  {
   "cell_type": "markdown",
   "metadata": {},
   "source": [
    "● **64.7%** of patients are **Females** (46,466), **75%** of them **Attend** (34,960), and **25% Absent** (11,506) \n",
    "\n",
    "● **35.3%** of patients are **Mens** (25,350), **75%** of them **Attend** (19,193) and **25% Absent** (6,157)\n",
    "\n",
    "**● The Precentage of Absence = 25% for Each Gender\n",
    "● The Precentage of Attendence = 75%  for Each Gender**\n",
    "\n",
    "● **No** Correlation Between **Gender** and **Attendence**."
   ]
  },
  {
   "cell_type": "markdown",
   "metadata": {},
   "source": [
    "### Q3: Does Scholarship Affect the Attendance?"
   ]
  },
  {
   "cell_type": "code",
   "execution_count": 33,
   "metadata": {},
   "outputs": [
    {
     "data": {
      "image/png": "[encoded data removed]",
      "text/plain": [
       "<Figure size 432x288 with 1 Axes>"
      ]
     },
     "metadata": {
      "needs_background": "light"
     },
     "output_type": "display_data"
    }
   ],
   "source": [
    "# A bar chart with proper labels to Compare the 'Attendance status' According To 'Scholarship Status'\n",
    "g=sns.countplot(x=clean_df.Scholarship, hue='No_Show', data=clean_df, palette='cool')\n",
    "plt.title('Attend/Absent by Scholarship');\n",
    "g.set_xticklabels(['No Scholarship', 'Scholarship Offer']);"
   ]
  },
  {
   "cell_type": "markdown",
   "metadata": {},
   "source": [
    "● The dateset **90%** of all patients **`have no Scholarship offer`** = 64,955:**75% attend** = 49,207,**25% absent** = 15,748\n",
    "\n",
    "● Only **10**% of all patients **`have Scholarship`** = 6,861:**72% attend** = 4,946 ,**28% absent** = 1,915\n",
    "\n",
    "● There is **`NO`** Correlation Between **`have Scholarship or not`** and the **`Attendance`**"
   ]
  },
  {
   "cell_type": "markdown",
   "metadata": {},
   "source": [
    "### Q4: Does SMS  Affect the Attendance"
   ]
  },
  {
   "cell_type": "code",
   "execution_count": 34,
   "metadata": {},
   "outputs": [
    {
     "data": {
      "image/png": "[encoded data removed]",
      "text/plain": [
       "<Figure size 432x288 with 1 Axes>"
      ]
     },
     "metadata": {
      "needs_background": "light"
     },
     "output_type": "display_data"
    }
   ],
   "source": [
    "# Create a bar for attendance base on SMS received \n",
    "g = sns.countplot(x=clean_df.SMS_Received, hue=clean_df.No_Show, data=clean_df, \n",
    "                   palette='cubehelix')\n",
    "g.set_title('Attend/Absent by SMS received')\n",
    "x_ticks_labels=['No SMS Recieved', 'SMS Recieved']\n",
    "g.set_xticklabels(x_ticks_labels);"
   ]
  },
  {
   "cell_type": "markdown",
   "metadata": {},
   "source": [
    "● **66%** of all patients ** Not Recieved SMS ** = 47,717 **:** **80% Attend** = 38,057 **,** **20% Absent** = 9,660\n",
    "\n",
    "● **34%** of all patients **Recieved SMS ** = 24,099 **:** **67% Attend** = 16,096 **,** **33% Absent** = 8,003"
   ]
  },
  {
   "cell_type": "markdown",
   "metadata": {},
   "source": [
    "### Q5: Does Age Affect the Attendance?"
   ]
  },
  {
   "cell_type": "code",
   "execution_count": 35,
   "metadata": {},
   "outputs": [
    {
     "data": {
      "image/png": "[encoded data removed]",
      "text/plain": [
       "<Figure size 1080x432 with 1 Axes>"
      ]
     },
     "metadata": {
      "needs_background": "light"
     },
     "output_type": "display_data"
    }
   ],
   "source": [
    "# A histogram to Compare the 'Attendence status' According To 'Age'\n",
    "plt.figure(figsize=[15,6])\n",
    "clean_df[Attend]['Age'].plot(kind='hist', alpha=0.7, color='#2492e5', label='Attend')\n",
    "clean_df[Absent]['Age'].plot(kind='hist', alpha=0.7, color='#907bc7', label='Absent')\n",
    "plt.legend();\n",
    "\n",
    "# Set the title and label axes \n",
    "plt.title('Attendence Status According to Age')\n",
    "plt.xlabel('Age');\n",
    "plt.ylabel('Patients Number');\n",
    "plt.show()"
   ]
  },
  {
   "cell_type": "markdown",
   "metadata": {},
   "source": [
    "**● Ages from 0 to 10 are the Most Attendance (parents take care of their kids)**\n",
    "**● Ages above 65 are the Least Attendance** \n",
    " \n",
    " Technically the number of attendance for each age is gratethan abasence\n",
    "  Patients with **Age** gratethan 65 years number decreased but the num of attend is still bigger than the absent \n",
    "\n",
    "● **NO** Correlation Between **Age** and **Attendance**"
   ]
  },
  {
   "cell_type": "markdown",
   "metadata": {},
   "source": [
    "##  Q6. Neighbourhoods with highest Number of Absent ##"
   ]
  },
  {
   "cell_type": "code",
   "execution_count": 36,
   "metadata": {},
   "outputs": [
    {
     "data": {
      "image/png": "[encoded data removed]",
      "text/plain": [
       "<Figure size 720x432 with 1 Axes>"
      ]
     },
     "metadata": {
      "needs_background": "light"
     },
     "output_type": "display_data"
    }
   ],
   "source": [
    "# Top six Neighbourhoods in with highest Number of No Show Appointments\n",
    "clean_df = clean_df[clean_df.No_Show == \"Yes\"]\n",
    "\n",
    "plt.figure(figsize = [10, 6])\n",
    "order = clean_df['Neighbourhood'].value_counts().index[:6]\n",
    "sns.countplot(data = clean_df, y = 'Neighbourhood', color =\"#2492e5\", order = order, alpha=.8)\n",
    "plt.title('Six(6) Neighbourhoods with highest Number of Absent')\n",
    "plt.xlabel('Number of Absent')\n",
    "plt.ylabel('Neighbourhood');"
   ]
  },
  {
   "cell_type": "markdown",
   "metadata": {},
   "source": [
    "The chart shown, JARDIM CAMBURI neighbourhood had the heighest number of missed appointments followed by MARIA ORTIZ and the rest"
   ]
  },
  {
   "cell_type": "markdown",
   "metadata": {},
   "source": [
    "## Q7 Print a `Single recor/observation`for a patient with index number"
   ]
  },
  {
   "cell_type": "code",
   "execution_count": 37,
   "metadata": {},
   "outputs": [
    {
     "data": {
      "text/html": [
       "<div>\n",
       "<style scoped>\n",
       "    .dataframe tbody tr th:only-of-type {\n",
       "        vertical-align: middle;\n",
       "    }\n",
       "\n",
       "    .dataframe tbody tr th {\n",
       "        vertical-align: top;\n",
       "    }\n",
       "\n",
       "    .dataframe thead th {\n",
       "        text-align: right;\n",
       "    }\n",
       "</style>\n",
       "<table border=\"1\" class=\"dataframe\">\n",
       "  <thead>\n",
       "    <tr style=\"text-align: right;\">\n",
       "      <th></th>\n",
       "      <th>Patient_Id</th>\n",
       "      <th>Appointment_Id</th>\n",
       "      <th>Gender</th>\n",
       "      <th>Scheduled_Day</th>\n",
       "      <th>Appointment_Day</th>\n",
       "      <th>Age</th>\n",
       "      <th>Neighbourhood</th>\n",
       "      <th>Scholarship</th>\n",
       "      <th>Hypertension</th>\n",
       "      <th>Diabetes</th>\n",
       "      <th>Alcoholism</th>\n",
       "      <th>SMS_Received</th>\n",
       "      <th>No_Show</th>\n",
       "    </tr>\n",
       "  </thead>\n",
       "  <tbody>\n",
       "    <tr>\n",
       "      <th>129</th>\n",
       "      <td>5.537367e+13</td>\n",
       "      <td>5560735</td>\n",
       "      <td>F</td>\n",
       "      <td>2016-04-08</td>\n",
       "      <td>2016-04-29</td>\n",
       "      <td>22</td>\n",
       "      <td>PRAIA DO SUÁ</td>\n",
       "      <td>0</td>\n",
       "      <td>0</td>\n",
       "      <td>0</td>\n",
       "      <td>0</td>\n",
       "      <td>1</td>\n",
       "      <td>Yes</td>\n",
       "    </tr>\n",
       "  </tbody>\n",
       "</table>\n",
       "</div>"
      ],
      "text/plain": [
       "       Patient_Id  Appointment_Id Gender Scheduled_Day Appointment_Day  Age  \\\n",
       "129  5.537367e+13         5560735      F    2016-04-08      2016-04-29   22   \n",
       "\n",
       "    Neighbourhood  Scholarship  Hypertension  Diabetes  Alcoholism  \\\n",
       "129  PRAIA DO SUÁ            0             0         0           0   \n",
       "\n",
       "     SMS_Received No_Show  \n",
       "129             1     Yes  "
      ]
     },
     "execution_count": 37,
     "metadata": {},
     "output_type": "execute_result"
    }
   ],
   "source": [
    "# Let's print a single observation for a patient with index id 25\n",
    "def single_observation(patient):\n",
    "    observation = clean_df.iloc[[patient]]\n",
    "    return observation\n",
    "\n",
    "# Call the single obeservation function to print a specific row.\n",
    "observe = single_observation(25)\n",
    "observe"
   ]
  },
  {
   "cell_type": "markdown",
   "metadata": {},
   "source": [
    "**Key index = 25** passed to the single_observation\n",
    "The above shows a sing patient with Appointment_Id **5624020** from Neighbourhoo **CONQUISTA** do show up/Attend. "
   ]
  },
  {
   "cell_type": "code",
   "execution_count": 38,
   "metadata": {},
   "outputs": [
    {
     "data": {
      "image/png": "[encoded data removed]",
      "text/plain": [
       "<Figure size 720x504 with 1 Axes>"
      ]
     },
     "metadata": {
      "needs_background": "light"
     },
     "output_type": "display_data"
    }
   ],
   "source": [
    "# Set plot single observation\n",
    "plt.figure(figsize=(10,7)) \n",
    "sns.histplot(x='No_Show', y='Appointment_Day', data=observe)\n",
    "plt.title('Single Patient Observation', size=16);"
   ]
  },
  {
   "cell_type": "markdown",
   "metadata": {},
   "source": [
    "The Single observation wof patient with index No **25** and Appointment ID **5624020** Shown on the **29-4-2016**  did show up/Attend for appointment "
   ]
  },
  {
   "cell_type": "markdown",
   "metadata": {},
   "source": [
    "<a id='conclusions'></a>\n",
    "\n",
    "## Conclusions\n",
    "● The `Nighbourhood` has a great effect on attendance or not.  Especiall `JARDIM CAMBURI` has the greatest number of patients and also has the greatest attendence rate. Patients attandance from specific nighbourhood affected by recieving SMS and Ages\n",
    "\n",
    "● The Number of attend patients **`without`** `recieving SMS` is **greater** than attend patients **`with`** `recieving SMS`:\n",
    "\n",
    "● **66%** of all patients **`Not Recieved SMS`** = 47,717 **:** **80% Attend** = 38,057 **,** **20% Absent** = 9,660\n",
    "\n",
    "● **34%** of all patients **`Recieved SMS`** = 24,099 **:** **67% Attend** = 16,096 **,** **33% Absent** = 8,003\n",
    "\n",
    "● There is **`NO`** Correlation Between **`have Scholarship or not`** and the **`Attandence`:**\n",
    "\n",
    "● **90%** of patients **`have no Scholarship`** = 64,955 **:** **75% Attend** = 49,207 **,** **25% Absent** = 15,748\n",
    "\n",
    "● **10**% of patients **`have Scholarship`** = 6,861 **:** **72% Attend** = 4,946 **,** **28% Absent** = 1,915\n",
    "\n",
    "> **Limitation**\n",
    "\n",
    "    - The dateset convers a short period of time range from April to June\n",
    "    \n",
    "    - There is less correlations between features and the dateset is more of categorical  "
   ]
  },
  {
   "cell_type": "code",
   "execution_count": null,
   "metadata": {
    "collapsed": true
   },
   "outputs": [],
   "source": []
  }
 ],
 "metadata": {
  "kernelspec": {
   "display_name": "Python 3 (ipykernel)",
   "language": "python",
   "name": "python3"
  },
  "language_info": {
   "codemirror_mode": {
    "name": "ipython",
    "version": 3
   },
   "file_extension": ".py",
   "mimetype": "text/x-python",
   "name": "python",
   "nbconvert_exporter": "python",
   "pygments_lexer": "ipython3",
   "version": "3.10.2"
  }
 },
 "nbformat": 4,
 "nbformat_minor": 2
}
